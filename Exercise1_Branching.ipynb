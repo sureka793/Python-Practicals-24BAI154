{
 "cells": [
  {
   "cell_type": "code",
   "execution_count": 1,
   "id": "6f40cd93-19b0-46e7-99c5-3ef2d65a976f",
   "metadata": {},
   "outputs": [
    {
     "name": "stdin",
     "output_type": "stream",
     "text": [
      "Enter num1: 8\n",
      "Enter num2: 2\n"
     ]
    },
    {
     "name": "stdout",
     "output_type": "stream",
     "text": [
      "8  is greater than  2\n"
     ]
    }
   ],
   "source": [
    "#Comparision of Two numbers\n",
    "a=int(input(\"Enter num1:\"))\n",
    "b=int(input(\"Enter num2:\"))\n",
    "if a>b:\n",
    "    print(a,\" is greater than \",b)\n",
    "elif b>a:\n",
    "    print(b,\" is greater than \",a)\n",
    "else:\n",
    "    print(a,\" is equal to \",b)"
   ]
  },
  {
   "cell_type": "code",
   "execution_count": 2,
   "id": "8bbf9a93-2d1a-4028-b000-0e2d17e14324",
   "metadata": {},
   "outputs": [
    {
     "name": "stdin",
     "output_type": "stream",
     "text": [
      "Enter a number: 7\n"
     ]
    },
    {
     "name": "stdout",
     "output_type": "stream",
     "text": [
      "The given number is odd\n"
     ]
    }
   ],
   "source": [
    "#Check Whether a number is odd or even\n",
    "n=int(input(\"Enter a number:\"))\n",
    "if n%2==0:\n",
    "    print(\"The given number is even\")\n",
    "else:\n",
    "    print(\"The given number is odd\")"
   ]
  },
  {
   "cell_type": "code",
   "execution_count": 4,
   "id": "a3c29f62-8202-4e54-9ff9-ffe254a50d03",
   "metadata": {},
   "outputs": [
    {
     "name": "stdin",
     "output_type": "stream",
     "text": [
      "Enter the year: 2025\n"
     ]
    },
    {
     "name": "stdout",
     "output_type": "stream",
     "text": [
      "It's not a leap year\n"
     ]
    }
   ],
   "source": [
    "#Leap-year checker using if-else condition\n",
    "year=int(input(\"Enter the year:\"))\n",
    "if(year%4==0 and year%100!=0)or(year%400==0):\n",
    "    print(\"It's a leap year\")\n",
    "else:\n",
    "    print(\"It's not a leap year\")"
   ]
  },
  {
   "cell_type": "code",
   "execution_count": 5,
   "id": "1b6593d9-3c0c-4a3c-8b8c-6fd7e80b21dd",
   "metadata": {},
   "outputs": [
    {
     "name": "stdin",
     "output_type": "stream",
     "text": [
      "Enter the rollno: 24BAI154\n",
      "Enter the name: Sureka M\n",
      "Enter m1: 100\n",
      "Enter m2: 99\n",
      "Enter m3: 98\n",
      "Enter m4: 97\n",
      "Enter m5: 100\n"
     ]
    },
    {
     "name": "stdout",
     "output_type": "stream",
     "text": [
      "Total marks: 494\n",
      "Average marks: 98.8\n",
      "A+ grade\n"
     ]
    }
   ],
   "source": [
    "#To calculate student grade details\n",
    "rollno=input(\"Enter the rollno:\")\n",
    "\n",
    "name=input(\"Enter the name:\")\n",
    "m1=int(input(\"Enter m1:\"))\n",
    "m2=int(input(\"Enter m2:\"))\n",
    "m3=int(input(\"Enter m3:\"))\n",
    "m4=int(input(\"Enter m4:\"))\n",
    "m5=int(input(\"Enter m5:\"))\n",
    "total=m1+m2+m3+m4+m5\n",
    "print(\"Total marks:\",total)\n",
    "avg=total/5\n",
    "print(\"Average marks:\",avg)\n",
    "if avg>=90 and avg<100:\n",
    "    print(\"A+ grade\")\n",
    "elif avg>=80 and avg<90:\n",
    "    print(\"A grade\")\n",
    "elif avg>=70 and avg<80:\n",
    "    print(\"B grade\")\n",
    "elif avg>=60 and avg<70:\n",
    "    print(\"C grade\")\n",
    "elif avg>=50 and avg<60:\n",
    "    print(\"D grade\")\n",
    "elif avg>=40 and avg<50:\n",
    "    print(\"E grade\")\n",
    "elif avg>=35 and avg<40:\n",
    "    print(\"Just pass\")\n",
    "else:\n",
    "    print(\"Fail\")"
   ]
  }
 ],
 "metadata": {
  "kernelspec": {
   "display_name": "Python 3 (ipykernel)",
   "language": "python",
   "name": "python3"
  },
  "language_info": {
   "codemirror_mode": {
    "name": "ipython",
    "version": 3
   },
   "file_extension": ".py",
   "mimetype": "text/x-python",
   "name": "python",
   "nbconvert_exporter": "python",
   "pygments_lexer": "ipython3",
   "version": "3.13.6"
  }
 },
 "nbformat": 4,
 "nbformat_minor": 5
}

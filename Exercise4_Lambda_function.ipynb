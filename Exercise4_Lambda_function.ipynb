{
 "cells": [
  {
   "cell_type": "code",
   "execution_count": 6,
   "id": "01b01ec4-c1fa-45d0-adc7-724c8b080545",
   "metadata": {},
   "outputs": [
    {
     "name": "stdout",
     "output_type": "stream",
     "text": [
      "11\n"
     ]
    }
   ],
   "source": [
    "#Addition of two numbers\n",
    "add=lambda x,y:x+y\n",
    "print(add(8,3))"
   ]
  },
  {
   "cell_type": "code",
   "execution_count": 8,
   "id": "23e74853-efa2-46ab-813c-5d24a002161a",
   "metadata": {},
   "outputs": [
    {
     "name": "stdout",
     "output_type": "stream",
     "text": [
      "49\n"
     ]
    }
   ],
   "source": [
    "#Square of a number\n",
    "square=lambda x:x*x\n",
    "print(square(7))"
   ]
  },
  {
   "cell_type": "code",
   "execution_count": 3,
   "id": "c842d8a7-afe3-4e82-91ee-d3639e83df99",
   "metadata": {},
   "outputs": [
    {
     "name": "stdout",
     "output_type": "stream",
     "text": [
      "[16, 36, 64, 81, 4]\n"
     ]
    }
   ],
   "source": [
    "#Using lambda with map()\n",
    "n=[4,6,8,9,2]\n",
    "square=list(map(lambda n:n*n,n))\n",
    "print(square)"
   ]
  },
  {
   "cell_type": "code",
   "execution_count": 4,
   "id": "ee1484be-5e81-46be-a56d-117e68943404",
   "metadata": {},
   "outputs": [
    {
     "name": "stdout",
     "output_type": "stream",
     "text": [
      "[4, 6, 8, 2]\n"
     ]
    }
   ],
   "source": [
    "#Using lambda with filter()\n",
    "n=[4,6,1,3,8,9,2]\n",
    "e=list(filter(lambda n:n%2==0,n))\n",
    "print(e)"
   ]
  },
  {
   "cell_type": "code",
   "execution_count": 5,
   "id": "ad759c1f-32f6-4db3-836e-437112be4cdf",
   "metadata": {},
   "outputs": [
    {
     "name": "stdout",
     "output_type": "stream",
     "text": [
      "[True, True, False, False, True, False, True]\n"
     ]
    }
   ],
   "source": [
    "n=[4,6,1,3,8,9,2]\n",
    "e=list(map(lambda n:n%2==0,n))\n",
    "print(e)"
   ]
  },
  {
   "cell_type": "code",
   "execution_count": null,
   "id": "f50a86d0-2d7e-490e-ae80-810805c3809b",
   "metadata": {},
   "outputs": [],
   "source": []
  }
 ],
 "metadata": {
  "kernelspec": {
   "display_name": "Python 3 (ipykernel)",
   "language": "python",
   "name": "python3"
  },
  "language_info": {
   "codemirror_mode": {
    "name": "ipython",
    "version": 3
   },
   "file_extension": ".py",
   "mimetype": "text/x-python",
   "name": "python",
   "nbconvert_exporter": "python",
   "pygments_lexer": "ipython3",
   "version": "3.13.6"
  }
 },
 "nbformat": 4,
 "nbformat_minor": 5
}
